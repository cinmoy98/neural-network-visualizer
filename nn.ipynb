{
 "cells": [
  {
   "cell_type": "code",
   "execution_count": 14,
   "metadata": {},
   "outputs": [],
   "source": [
    "%matplotlib inline\n",
    "\n",
    "import tensorflow as tf\n",
    "import numpy as np\n",
    "import matplotlib.pyplot as plt"
   ]
  },
  {
   "cell_type": "code",
   "execution_count": 3,
   "metadata": {},
   "outputs": [],
   "source": [
    "(xtr, ytr), (xt, yt) = tf.keras.datasets.mnist.load_data()"
   ]
  },
  {
   "cell_type": "code",
   "execution_count": 4,
   "metadata": {},
   "outputs": [],
   "source": [
    "xtr = np.reshape(xtr, (60000, 28 * 28))\n",
    "xt = np.reshape(xt, (10000, 28 *28))"
   ]
  },
  {
   "cell_type": "code",
   "execution_count": 5,
   "metadata": {},
   "outputs": [],
   "source": [
    "xtr = xtr/255\n",
    "xt = xt/255"
   ]
  },
  {
   "cell_type": "code",
   "execution_count": 6,
   "metadata": {},
   "outputs": [
    {
     "data": {
      "text/plain": [
       "(10000, 784)"
      ]
     },
     "execution_count": 6,
     "metadata": {},
     "output_type": "execute_result"
    }
   ],
   "source": [
    "xt.shape"
   ]
  },
  {
   "cell_type": "code",
   "execution_count": 7,
   "metadata": {},
   "outputs": [],
   "source": [
    "model = tf.keras.models.Sequential([\n",
    "    tf.keras.layers.Dense(32, activation='sigmoid', input_shape=(784,)),\n",
    "    tf.keras.layers.Dense(32, activation='sigmoid'),\n",
    "    tf.keras.layers.Dense(10, activation='softmax')\n",
    "])\n",
    "\n",
    "model.compile(\n",
    "    loss='sparse_categorical_crossentropy',\n",
    "    optimizer='adam',\n",
    "    metrics=['accuracy']\n",
    ")"
   ]
  },
  {
   "cell_type": "code",
   "execution_count": 9,
   "metadata": {},
   "outputs": [
    {
     "name": "stdout",
     "output_type": "stream",
     "text": [
      "Train on 60000 samples, validate on 10000 samples\n",
      "Epoch 1/20\n",
      "60000/60000 - 0s - loss: 0.2049 - accuracy: 0.9453 - val_loss: 0.2138 - val_accuracy: 0.9392\n",
      "Epoch 2/20\n",
      "60000/60000 - 0s - loss: 0.2007 - accuracy: 0.9468 - val_loss: 0.2105 - val_accuracy: 0.9403\n",
      "Epoch 3/20\n",
      "60000/60000 - 0s - loss: 0.1973 - accuracy: 0.9474 - val_loss: 0.2068 - val_accuracy: 0.9414\n",
      "Epoch 4/20\n",
      "60000/60000 - 0s - loss: 0.1933 - accuracy: 0.9485 - val_loss: 0.2036 - val_accuracy: 0.9424\n",
      "Epoch 5/20\n",
      "60000/60000 - 1s - loss: 0.1898 - accuracy: 0.9487 - val_loss: 0.2005 - val_accuracy: 0.9436\n",
      "Epoch 6/20\n",
      "60000/60000 - 1s - loss: 0.1863 - accuracy: 0.9498 - val_loss: 0.1972 - val_accuracy: 0.9437\n",
      "Epoch 7/20\n",
      "60000/60000 - 1s - loss: 0.1829 - accuracy: 0.9510 - val_loss: 0.1940 - val_accuracy: 0.9455\n",
      "Epoch 8/20\n",
      "60000/60000 - 0s - loss: 0.1797 - accuracy: 0.9516 - val_loss: 0.1915 - val_accuracy: 0.9453\n",
      "Epoch 9/20\n",
      "60000/60000 - 0s - loss: 0.1765 - accuracy: 0.9524 - val_loss: 0.1892 - val_accuracy: 0.9463\n",
      "Epoch 10/20\n",
      "60000/60000 - 0s - loss: 0.1735 - accuracy: 0.9530 - val_loss: 0.1866 - val_accuracy: 0.9475\n",
      "Epoch 11/20\n",
      "60000/60000 - 1s - loss: 0.1704 - accuracy: 0.9536 - val_loss: 0.1845 - val_accuracy: 0.9473\n",
      "Epoch 12/20\n",
      "60000/60000 - 0s - loss: 0.1677 - accuracy: 0.9543 - val_loss: 0.1824 - val_accuracy: 0.9484\n",
      "Epoch 13/20\n",
      "60000/60000 - 0s - loss: 0.1650 - accuracy: 0.9551 - val_loss: 0.1796 - val_accuracy: 0.9497\n",
      "Epoch 14/20\n",
      "60000/60000 - 0s - loss: 0.1622 - accuracy: 0.9556 - val_loss: 0.1778 - val_accuracy: 0.9498\n",
      "Epoch 15/20\n",
      "60000/60000 - 0s - loss: 0.1597 - accuracy: 0.9567 - val_loss: 0.1754 - val_accuracy: 0.9500\n",
      "Epoch 16/20\n",
      "60000/60000 - 0s - loss: 0.1571 - accuracy: 0.9573 - val_loss: 0.1735 - val_accuracy: 0.9492\n",
      "Epoch 17/20\n",
      "60000/60000 - 0s - loss: 0.1547 - accuracy: 0.9580 - val_loss: 0.1718 - val_accuracy: 0.9510\n",
      "Epoch 18/20\n",
      "60000/60000 - 0s - loss: 0.1525 - accuracy: 0.9588 - val_loss: 0.1697 - val_accuracy: 0.9513\n",
      "Epoch 19/20\n",
      "60000/60000 - 0s - loss: 0.1500 - accuracy: 0.9595 - val_loss: 0.1680 - val_accuracy: 0.9527\n",
      "Epoch 20/20\n",
      "60000/60000 - 0s - loss: 0.1477 - accuracy: 0.9600 - val_loss: 0.1667 - val_accuracy: 0.9529\n"
     ]
    }
   ],
   "source": [
    "_ = model.fit(\n",
    "    xtr, ytr,\n",
    "    validation_data=(xt, yt),\n",
    "    epochs=20, batch_size=2048,\n",
    "    verbose=2\n",
    ")"
   ]
  },
  {
   "cell_type": "code",
   "execution_count": 8,
   "metadata": {},
   "outputs": [],
   "source": [
    "model.save('model.h5')"
   ]
  },
  {
   "cell_type": "code",
   "execution_count": 1,
   "metadata": {},
   "outputs": [
    {
     "name": "stdout",
     "output_type": "stream",
     "text": [
      "Overwriting ml_server.py\n"
     ]
    }
   ],
   "source": [
    "%%writefile ml_server.py\n",
    "\n",
    "import json\n",
    "import tensorflow as tf\n",
    "import numpy as np\n",
    "import random\n",
    "\n",
    "from flask import Flask, request\n",
    "\n",
    "app = Flask(__name__)\n",
    "model = tf.keras.models.load_model('model.h5')\n",
    "\n",
    "feature_model = tf.keras.models.Model(\n",
    "    model.inputs,\n",
    "    [layer.output for layer in model.layers]\n",
    ")\n",
    "\n",
    "_, (x_test, _) = tf.keras.datasets.mnist.load_data()\n",
    "x_test = x_test / 255\n",
    "\n",
    "def get_prediction():\n",
    "    index = np.random.choice(x_test.shape[0])\n",
    "    image = x_test[index, :, :]\n",
    "    image_arr = np.reshape(image, (1, 784))\n",
    "    return feature_model.predict(image_arr), image\n",
    "\n",
    "@app.route('/', methods=['GET', 'POST'])\n",
    "def index():\n",
    "    if request.method == 'POST':\n",
    "        preds, image = get_prediction()\n",
    "        final_preds = [p.tolist() for p in preds]\n",
    "        return json.dumps({\n",
    "            'prediction': final_preds,\n",
    "            'image': image.tolist()\n",
    "        })\n",
    "    return 'Welcome to the model server!'\n",
    "if __name__ == '__main__':\n",
    "    app.run()"
   ]
  },
  {
   "cell_type": "code",
   "execution_count": 13,
   "metadata": {},
   "outputs": [
    {
     "name": "stdout",
     "output_type": "stream",
     "text": [
      "Overwriting app.py\n"
     ]
    }
   ],
   "source": [
    "%%writefile app.py\n",
    "\n",
    "import streamlit as st\n",
    "import json\n",
    "import requests\n",
    "import matplotlib.pyplot as plt\n",
    "import numpy as np\n",
    "\n",
    "URI = 'http://127.0.0.1:5000'\n",
    "\n",
    "st.title('Nural Network Visualizer')\n",
    "st.sidebar.markdown('## Input Image')\n",
    "\n",
    "if st.button('Get Random Prediction'):\n",
    "    response = requests.post(URI, data={})\n",
    "    response = json.loads(response.text)\n",
    "    preds = response.get('prediction')\n",
    "    image = response.get('image')\n",
    "    image = np.reshape(image, (28, 28))\n",
    "    \n",
    "    st.sidebar.image(image, width=150)\n",
    "    \n",
    "    for layer, p in enumerate(preds):\n",
    "        numbers = np.squeeze(np.array(p))\n",
    "        \n",
    "        plt.figure(figsize=(32, 4))\n",
    "        \n",
    "        if layer == 2:\n",
    "            row = 1\n",
    "            col = 10\n",
    "        else:\n",
    "            row = 2\n",
    "            col = 16\n",
    "        \n",
    "        for i, number in enumerate(numbers):\n",
    "            plt.subplot(row, col, i+1)\n",
    "            plt.imshow(number * np.ones((8, 8, 3)).astype('float32'))\n",
    "            plt.xticks([])\n",
    "            plt.yticks([])\n",
    "            \n",
    "            if layer == 2:\n",
    "                plt.xlabel(str(i), fontsize=40)\n",
    "        plt.subplots_adjust(wspace=0.05, hspace=0.05)\n",
    "        plt.tight_layout()\n",
    "        st.text('Layer {}'.format(layer + 1))\n",
    "        st.pyplot()\n",
    "            "
   ]
  }
 ],
 "metadata": {
  "kernelspec": {
   "display_name": "Python 3",
   "language": "python",
   "name": "python3"
  },
  "language_info": {
   "codemirror_mode": {
    "name": "ipython",
    "version": 3
   },
   "file_extension": ".py",
   "mimetype": "text/x-python",
   "name": "python",
   "nbconvert_exporter": "python",
   "pygments_lexer": "ipython3",
   "version": "3.7.6"
  }
 },
 "nbformat": 4,
 "nbformat_minor": 1
}
